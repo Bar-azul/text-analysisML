{
 "cells": [
  {
   "cell_type": "markdown",
   "metadata": {},
   "source": [
    "# Assignment 3 - Text Analysis\n",
    "An explanation this assignment could be found in the .pdf explanation document"
   ]
  },
  {
   "cell_type": "markdown",
   "metadata": {},
   "source": [
    "\n",
    "## Materials to review for this assignment\n",
    "<h4>From Moodle:</h4> \n",
    "<h5><u>Review the notebooks regarding the following python topics</u>:</h5>\n",
    "<div class=\"alert alert-info\">\n",
    "&#x2714; <b>Working with strings</b> (tutorial notebook)<br/>\n",
    "&#x2714; <b>Text Analysis</b> (tutorial notebook)<br/>\n",
    "&#x2714; <b>Hebrew text analysis tools (tokenizer, wordnet)</b> (moodle example)<br/>\n",
    "&#x2714; <b>(brief review) All previous notebooks</b><br/>\n",
    "</div> \n",
    "<h5><u>Review the presentations regarding the following topics</u>:</h5>\n",
    "<div class=\"alert alert-info\">\n",
    "&#x2714; <b>Text Analysis</b> (lecture presentation)<br/>\n",
    "&#x2714; <b>(brief review) All other presentations</b><br/>\n",
    "</div>"
   ]
  },
  {
   "cell_type": "markdown",
   "metadata": {},
   "source": [
    "## Personal Details:"
   ]
  },
  {
   "cell_type": "code",
   "execution_count": 1,
   "metadata": {},
   "outputs": [],
   "source": [
    "# Details Student 1:Bar Azulay ID:207128695"
   ]
  },
  {
   "cell_type": "markdown",
   "metadata": {},
   "source": [
    "## Preceding Step - import modules (packages)\n",
    "This step is necessary in order to use external modules (packages). <br/>"
   ]
  },
  {
   "cell_type": "code",
   "execution_count": 2,
   "metadata": {},
   "outputs": [],
   "source": [
    "# --------------------------------------\n",
    "import pandas as pd\n",
    "import numpy as np\n",
    "# --------------------------------------\n",
    "\n",
    "\n",
    "# --------------------------------------\n",
    "# ------------- visualizations:\n",
    "import seaborn as sns\n",
    "import matplotlib.pyplot as plt\n",
    "from matplotlib.colors import ListedColormap\n",
    "# --------------------------------------\n",
    "\n",
    "\n",
    "# ---------------------------------------\n",
    "import sklearn\n",
    "from sklearn import preprocessing, metrics, pipeline, model_selection, feature_extraction \n",
    "from sklearn import naive_bayes, linear_model, svm, neural_network, neighbors, tree\n",
    "from sklearn import decomposition, cluster\n",
    "\n",
    "from sklearn.model_selection import train_test_split, cross_val_score, GridSearchCV \n",
    "from sklearn.pipeline import Pipeline\n",
    "from sklearn.metrics import accuracy_score, confusion_matrix\n",
    "from sklearn.metrics import precision_score, recall_score, f1_score\n",
    "from sklearn.metrics import mean_squared_error, r2_score, silhouette_score\n",
    "from sklearn.preprocessing import MinMaxScaler, StandardScaler, LabelEncoder\n",
    "\n",
    "from sklearn.svm import LinearSVC\n",
    "from sklearn.neural_network import MLPClassifier\n",
    "from sklearn.linear_model import Perceptron, SGDClassifier\n",
    "from sklearn.decomposition import PCA\n",
    "from sklearn.cluster import KMeans\n",
    "from sklearn.naive_bayes import MultinomialNB, GaussianNB\n",
    "from sklearn.neighbors import KNeighborsClassifier\n",
    "from sklearn.tree import DecisionTreeClassifier\n",
    "# ---------------------------------------\n",
    "\n",
    "\n",
    "# ----------------- output and visualizations: \n",
    "import warnings\n",
    "from sklearn.exceptions import ConvergenceWarning\n",
    "warnings.simplefilter(\"ignore\")\n",
    "warnings.simplefilter(action='ignore', category=FutureWarning)\n",
    "warnings.simplefilter(\"ignore\", category=ConvergenceWarning)\n",
    "# show several prints in one cell. This will allow us to condence every trick in one cell.\n",
    "from IPython.core.interactiveshell import InteractiveShell\n",
    "InteractiveShell.ast_node_interactivity = \"all\"\n",
    "%matplotlib inline\n",
    "pd.pandas.set_option('display.max_columns', None)\n",
    "pd.set_option('display.float_format', lambda x: '%.3f' % x)\n",
    "# ---------------------------------------"
   ]
  },
  {
   "cell_type": "markdown",
   "metadata": {},
   "source": [
    "### Text analysis and String manipulation imports:"
   ]
  },
  {
   "cell_type": "code",
   "execution_count": 3,
   "metadata": {},
   "outputs": [],
   "source": [
    "# --------------------------------------\n",
    "# --------- Text analysis and Hebrew text analysis imports:\n",
    "# vectorizers:\n",
    "from sklearn.feature_extraction import text\n",
    "from sklearn.feature_extraction.text import CountVectorizer, TfidfVectorizer\n",
    "\n",
    "# regular expressions:\n",
    "import re\n",
    "# --------------------------------------"
   ]
  },
  {
   "cell_type": "markdown",
   "metadata": {},
   "source": [
    "### (optional) Hebrew text analysis - WordNet (for Hebrew)\n",
    "Note: the WordNet is not a must"
   ]
  },
  {
   "cell_type": "markdown",
   "metadata": {},
   "source": [
    "#### (optional) Only if you didn't install Wordnet (for Hebrew) use:"
   ]
  },
  {
   "cell_type": "code",
   "execution_count": 4,
   "metadata": {},
   "outputs": [],
   "source": [
    "# word net installation:\n",
    "\n",
    "# unmark if you want to use and need to install\n",
    " #!pip install wn\n",
    " #!python -m wn download omw-he:1.4"
   ]
  },
  {
   "cell_type": "code",
   "execution_count": 5,
   "metadata": {},
   "outputs": [],
   "source": [
    "# word net import:\n",
    "\n",
    "# unmark if you want to use:\n",
    " #import wn"
   ]
  },
  {
   "cell_type": "markdown",
   "metadata": {},
   "source": [
    "### (optional) Hebrew text analysis - hebrew_tokenizer (Tokenizer for Hebrew)\n",
    "Note: the hebrew_tokenizer is not a must"
   ]
  },
  {
   "cell_type": "markdown",
   "metadata": {},
   "source": [
    "#### (optional) Only if you didn't install hebrew_tokenizer use:"
   ]
  },
  {
   "cell_type": "code",
   "execution_count": 6,
   "metadata": {},
   "outputs": [],
   "source": [
    "# Hebrew tokenizer installation:\n",
    "\n",
    "# unmark if you want to use and need to install:\n",
    " #!pip install hebrew_tokenizer"
   ]
  },
  {
   "cell_type": "code",
   "execution_count": 7,
   "metadata": {},
   "outputs": [],
   "source": [
    "# Hebrew tokenizer import:\n",
    "\n",
    "# unmark if you want to use:\n"
   ]
  },
  {
   "cell_type": "markdown",
   "metadata": {},
   "source": [
    "### Reading input files\n",
    "Reading input files for train annotated corpus (raw text data) corpus and for the test corpus"
   ]
  },
  {
   "cell_type": "code",
   "execution_count": 8,
   "metadata": {},
   "outputs": [],
   "source": [
    "train_filename = 'annotated_corpus_for_train.csv'\n",
    "test_filename  = 'corpus_for_test.csv'\n",
    "df_train = pd.read_csv(train_filename, index_col=None, encoding='utf-8')\n",
    "df_test  = pd.read_csv(test_filename, index_col=None, encoding='utf-8')"
   ]
  },
  {
   "cell_type": "code",
   "execution_count": 9,
   "metadata": {},
   "outputs": [
    {
     "data": {
      "text/html": [
       "<div>\n",
       "<style scoped>\n",
       "    .dataframe tbody tr th:only-of-type {\n",
       "        vertical-align: middle;\n",
       "    }\n",
       "\n",
       "    .dataframe tbody tr th {\n",
       "        vertical-align: top;\n",
       "    }\n",
       "\n",
       "    .dataframe thead th {\n",
       "        text-align: right;\n",
       "    }\n",
       "</style>\n",
       "<table border=\"1\" class=\"dataframe\">\n",
       "  <thead>\n",
       "    <tr style=\"text-align: right;\">\n",
       "      <th></th>\n",
       "      <th>story</th>\n",
       "      <th>gender</th>\n",
       "    </tr>\n",
       "  </thead>\n",
       "  <tbody>\n",
       "    <tr>\n",
       "      <th>0</th>\n",
       "      <td>כשחבר הזמין אותי לחול, לא באמת חשבתי שזה יקרה,...</td>\n",
       "      <td>m</td>\n",
       "    </tr>\n",
       "    <tr>\n",
       "      <th>1</th>\n",
       "      <td>לפני שהתגייסתי לצבא עשיתי כל מני מיונים ליחידו...</td>\n",
       "      <td>m</td>\n",
       "    </tr>\n",
       "    <tr>\n",
       "      <th>2</th>\n",
       "      <td>מאז שהתחילו הלימודים חלומו של כל סטודנט זה הפנ...</td>\n",
       "      <td>f</td>\n",
       "    </tr>\n",
       "    <tr>\n",
       "      <th>3</th>\n",
       "      <td>כשהייתי ילד, מטוסים היה הדבר שהכי ריתק אותי. ב...</td>\n",
       "      <td>m</td>\n",
       "    </tr>\n",
       "    <tr>\n",
       "      <th>4</th>\n",
       "      <td>‏הייתי מדריכה בכפר נוער ומתאם הכפר היינו צריכי...</td>\n",
       "      <td>f</td>\n",
       "    </tr>\n",
       "    <tr>\n",
       "      <th>5</th>\n",
       "      <td>לפני כ3 חודשים טסתי לרומא למשך שבוע. טסתי במטו...</td>\n",
       "      <td>f</td>\n",
       "    </tr>\n",
       "    <tr>\n",
       "      <th>6</th>\n",
       "      <td>אני כבר שנתיים נשוי והשנה אני ואישתי סוף סוף י...</td>\n",
       "      <td>m</td>\n",
       "    </tr>\n",
       "    <tr>\n",
       "      <th>7</th>\n",
       "      <td>השנה התחלנו שיפוץ בדירה שלנו בתל אביב. הדירה ה...</td>\n",
       "      <td>f</td>\n",
       "    </tr>\n",
       "  </tbody>\n",
       "</table>\n",
       "</div>"
      ],
      "text/plain": [
       "                                               story gender\n",
       "0  כשחבר הזמין אותי לחול, לא באמת חשבתי שזה יקרה,...      m\n",
       "1  לפני שהתגייסתי לצבא עשיתי כל מני מיונים ליחידו...      m\n",
       "2  מאז שהתחילו הלימודים חלומו של כל סטודנט זה הפנ...      f\n",
       "3  כשהייתי ילד, מטוסים היה הדבר שהכי ריתק אותי. ב...      m\n",
       "4  ‏הייתי מדריכה בכפר נוער ומתאם הכפר היינו צריכי...      f\n",
       "5  לפני כ3 חודשים טסתי לרומא למשך שבוע. טסתי במטו...      f\n",
       "6  אני כבר שנתיים נשוי והשנה אני ואישתי סוף סוף י...      m\n",
       "7  השנה התחלנו שיפוץ בדירה שלנו בתל אביב. הדירה ה...      f"
      ]
     },
     "execution_count": 9,
     "metadata": {},
     "output_type": "execute_result"
    },
    {
     "data": {
      "text/plain": [
       "(753, 2)"
      ]
     },
     "execution_count": 9,
     "metadata": {},
     "output_type": "execute_result"
    }
   ],
   "source": [
    "df_train.head(8)\n",
    "df_train.shape"
   ]
  },
  {
   "cell_type": "code",
   "execution_count": 10,
   "metadata": {},
   "outputs": [
    {
     "data": {
      "text/html": [
       "<div>\n",
       "<style scoped>\n",
       "    .dataframe tbody tr th:only-of-type {\n",
       "        vertical-align: middle;\n",
       "    }\n",
       "\n",
       "    .dataframe tbody tr th {\n",
       "        vertical-align: top;\n",
       "    }\n",
       "\n",
       "    .dataframe thead th {\n",
       "        text-align: right;\n",
       "    }\n",
       "</style>\n",
       "<table border=\"1\" class=\"dataframe\">\n",
       "  <thead>\n",
       "    <tr style=\"text-align: right;\">\n",
       "      <th></th>\n",
       "      <th>test_example_id</th>\n",
       "      <th>story</th>\n",
       "    </tr>\n",
       "  </thead>\n",
       "  <tbody>\n",
       "    <tr>\n",
       "      <th>0</th>\n",
       "      <td>0</td>\n",
       "      <td>כל קיץ אני והמשפחה נוסעים לארצות הברית לוס אנג...</td>\n",
       "    </tr>\n",
       "    <tr>\n",
       "      <th>1</th>\n",
       "      <td>1</td>\n",
       "      <td>הגעתי לשירות המדינה אחרי שנתיים כפעיל בתנועת \"...</td>\n",
       "    </tr>\n",
       "    <tr>\n",
       "      <th>2</th>\n",
       "      <td>2</td>\n",
       "      <td>אחת האהבות הגדולות שלי אלו הכלבים שלי ושל אישת...</td>\n",
       "    </tr>\n",
       "    <tr>\n",
       "      <th>3</th>\n",
       "      <td>3</td>\n",
       "      <td>רגע הגיוס לצבא היה הרגע הכי משמעותי עבורי, אני...</td>\n",
       "    </tr>\n",
       "    <tr>\n",
       "      <th>4</th>\n",
       "      <td>4</td>\n",
       "      <td>אני הגעתי לברזיל ישר מקולומביה וגם אני עשיתי ע...</td>\n",
       "    </tr>\n",
       "    <tr>\n",
       "      <th>5</th>\n",
       "      <td>5</td>\n",
       "      <td>בפעם האחרונה שהייתי מחוץ לארץ ישראל הייתי באפר...</td>\n",
       "    </tr>\n",
       "    <tr>\n",
       "      <th>6</th>\n",
       "      <td>6</td>\n",
       "      <td>בשנת 2018 קיבלתי החלטה שאני מתחיל ללמוד לתואר ...</td>\n",
       "    </tr>\n",
       "    <tr>\n",
       "      <th>7</th>\n",
       "      <td>7</td>\n",
       "      <td>בנובמבר האחרון הייתי עם חברים בטיול ים אל ים, ...</td>\n",
       "    </tr>\n",
       "  </tbody>\n",
       "</table>\n",
       "</div>"
      ],
      "text/plain": [
       "   test_example_id                                              story\n",
       "0                0  כל קיץ אני והמשפחה נוסעים לארצות הברית לוס אנג...\n",
       "1                1  הגעתי לשירות המדינה אחרי שנתיים כפעיל בתנועת \"...\n",
       "2                2  אחת האהבות הגדולות שלי אלו הכלבים שלי ושל אישת...\n",
       "3                3  רגע הגיוס לצבא היה הרגע הכי משמעותי עבורי, אני...\n",
       "4                4  אני הגעתי לברזיל ישר מקולומביה וגם אני עשיתי ע...\n",
       "5                5  בפעם האחרונה שהייתי מחוץ לארץ ישראל הייתי באפר...\n",
       "6                6  בשנת 2018 קיבלתי החלטה שאני מתחיל ללמוד לתואר ...\n",
       "7                7  בנובמבר האחרון הייתי עם חברים בטיול ים אל ים, ..."
      ]
     },
     "execution_count": 10,
     "metadata": {},
     "output_type": "execute_result"
    },
    {
     "data": {
      "text/plain": [
       "(323, 2)"
      ]
     },
     "execution_count": 10,
     "metadata": {},
     "output_type": "execute_result"
    }
   ],
   "source": [
    "df_test.head(8)\n",
    "df_test.shape"
   ]
  },
  {
   "cell_type": "code",
   "execution_count": null,
   "metadata": {},
   "outputs": [],
   "source": [
    "\n"
   ]
  },
  {
   "cell_type": "markdown",
   "metadata": {},
   "source": [
    "### Your implementation:\n",
    "Write your code solution in the following code-cells"
   ]
  },
  {
   "cell_type": "code",
   "execution_count": 11,
   "metadata": {},
   "outputs": [],
   "source": [
    "# Prepare Data\n",
    "df_names=df_train\n",
    "df_names2=df_test\n",
    "df_names.gender.replace({'f':0,'m':1},inplace=True)\n",
    "\n",
    "Xfeatures=df_names.story\n",
    "\n",
    "cv1=CountVectorizer()    #vectorization\n",
    "X=cv1.fit_transform(Xfeatures)\n",
    "#X\n",
    "y=df_names.gender\n",
    "sample_storys=df_names.story\n",
    "vect=cv1.transform(sample_storys).toarray()\n",
    "\n"
   ]
  },
  {
   "cell_type": "code",
   "execution_count": 12,
   "metadata": {},
   "outputs": [
    {
     "data": {
      "text/plain": [
       "0.7038245614035088"
      ]
     },
     "execution_count": 12,
     "metadata": {},
     "output_type": "execute_result"
    },
    {
     "data": {
      "text/plain": [
       "3"
      ]
     },
     "execution_count": 12,
     "metadata": {},
     "output_type": "execute_result"
    },
    {
     "data": {
      "text/plain": [
       "0.7278070175438597"
      ]
     },
     "execution_count": 12,
     "metadata": {},
     "output_type": "execute_result"
    },
    {
     "data": {
      "text/plain": [
       "5"
      ]
     },
     "execution_count": 12,
     "metadata": {},
     "output_type": "execute_result"
    },
    {
     "data": {
      "text/plain": [
       "0.7384385964912281"
      ]
     },
     "execution_count": 12,
     "metadata": {},
     "output_type": "execute_result"
    },
    {
     "data": {
      "text/plain": [
       "7"
      ]
     },
     "execution_count": 12,
     "metadata": {},
     "output_type": "execute_result"
    },
    {
     "data": {
      "text/plain": [
       "0.7530701754385966"
      ]
     },
     "execution_count": 12,
     "metadata": {},
     "output_type": "execute_result"
    },
    {
     "data": {
      "text/plain": [
       "9"
      ]
     },
     "execution_count": 12,
     "metadata": {},
     "output_type": "execute_result"
    },
    {
     "data": {
      "text/plain": [
       "0.7610000000000001"
      ]
     },
     "execution_count": 12,
     "metadata": {},
     "output_type": "execute_result"
    },
    {
     "data": {
      "text/plain": [
       "11"
      ]
     },
     "execution_count": 12,
     "metadata": {},
     "output_type": "execute_result"
    },
    {
     "data": {
      "text/plain": [
       "0.762280701754386"
      ]
     },
     "execution_count": 12,
     "metadata": {},
     "output_type": "execute_result"
    },
    {
     "data": {
      "text/plain": [
       "18"
      ]
     },
     "execution_count": 12,
     "metadata": {},
     "output_type": "execute_result"
    },
    {
     "data": {
      "text/plain": [
       "0.7636140350877193"
      ]
     },
     "execution_count": 12,
     "metadata": {},
     "output_type": "execute_result"
    },
    {
     "data": {
      "text/plain": [
       "22"
      ]
     },
     "execution_count": 12,
     "metadata": {},
     "output_type": "execute_result"
    },
    {
     "data": {
      "text/plain": [
       "0.7636140350877193"
      ]
     },
     "execution_count": 12,
     "metadata": {},
     "output_type": "execute_result"
    }
   ],
   "source": [
    "#cv1.get_feature_names()\n",
    "\n",
    "#X_train,X_test,y_train,y_test=train_test_split(X,y,test_size=0.33,random_state=33)\n",
    "\n",
    "max=0\n",
    "for b in range(3,26):\n",
    "    \n",
    "    clk_l=KNeighborsClassifier(n_neighbors=b)\n",
    "    scores1 = cross_val_score(clk_l,X,y,cv=10)\n",
    "    if scores1.mean()>max:\n",
    "        max=scores1.mean()\n",
    "        max\n",
    "        b\n",
    "max        "
   ]
  },
  {
   "cell_type": "code",
   "execution_count": null,
   "metadata": {},
   "outputs": [],
   "source": []
  },
  {
   "cell_type": "code",
   "execution_count": 13,
   "metadata": {},
   "outputs": [
    {
     "data": {
      "text/plain": [
       "KNeighborsClassifier(n_neighbors=3)"
      ]
     },
     "execution_count": 13,
     "metadata": {},
     "output_type": "execute_result"
    },
    {
     "name": "stdout",
     "output_type": "stream",
     "text": [
      "KNeighborsClassifier and GridSearch:\n"
     ]
    },
    {
     "data": {
      "text/plain": [
       "'best params: '"
      ]
     },
     "execution_count": 13,
     "metadata": {},
     "output_type": "execute_result"
    },
    {
     "data": {
      "text/plain": [
       "{'metric': 'manhattan', 'n_neighbors': 7}"
      ]
     },
     "execution_count": 13,
     "metadata": {},
     "output_type": "execute_result"
    },
    {
     "name": "stdout",
     "output_type": "stream",
     "text": [
      "Cross validation Score:  0.7636140350877192\n",
      "macro avg f1 score with KNeighborsClassifier and GridSearch= 0.602376956685281\n",
      "\n",
      "[[ 34 144]\n",
      " [  2 573]]\n",
      "\n",
      "\n",
      "KNeighborsClassifier without GridSearch:\n",
      "\n",
      "Cross validation mean score= 0.7038245614035088\n",
      "\n",
      "Accuracy= 0.8432934926958832\n",
      "macro avg f1 score with KNeighborsClassifier= 0.7480319872958259\n",
      "[[ 86  92]\n",
      " [ 26 549]]\n",
      "\n"
     ]
    },
    {
     "data": {
      "text/plain": [
       "MultinomialNB()"
      ]
     },
     "execution_count": 13,
     "metadata": {},
     "output_type": "execute_result"
    },
    {
     "name": "stdout",
     "output_type": "stream",
     "text": [
      "Cross validation mean score= 0.7530175438596491\n",
      "\n",
      "Accuracy= 0.9933598937583001\n",
      "macro avg f1 score with MultinomialNB= 0.9907495903038999\n",
      "[[174   4]\n",
      " [  1 574]]\n"
     ]
    },
    {
     "data": {
      "text/plain": [
       "'df train gender array:'"
      ]
     },
     "execution_count": 13,
     "metadata": {},
     "output_type": "execute_result"
    },
    {
     "data": {
      "text/plain": [
       "array([1, 1, 0, 1, 0, 0, 1, 0, 1, 0, 1, 0, 0, 1, 1, 0, 1, 1, 1, 1, 1, 1,\n",
       "       0, 0, 1, 1, 0, 0, 1, 1, 0, 1, 0, 1, 1, 1, 1, 1, 0, 1, 1, 1, 1, 1,\n",
       "       1, 1, 0, 1, 0, 1, 0, 1, 1, 1, 1, 1, 0, 1, 0, 1, 0, 0, 1, 1, 1, 1,\n",
       "       1, 0, 1, 1, 0, 1, 1, 0, 1, 1, 1, 0, 1, 1, 0, 1, 1, 1, 1, 1, 1, 1,\n",
       "       0, 1, 1, 0, 1, 0, 1, 1, 0, 0, 0, 1, 0, 1, 1, 1, 0, 1, 1, 1, 0, 1,\n",
       "       1, 1, 1, 0, 1, 1, 0, 1, 1, 1, 1, 1, 1, 1, 1, 0, 1, 1, 0, 1, 1, 1,\n",
       "       1, 1, 0, 1, 1, 1, 1, 1, 1, 0, 0, 1, 1, 0, 1, 1, 1, 0, 1, 1, 0, 1,\n",
       "       1, 0, 1, 1, 1, 1, 1, 1, 1, 1, 1, 0, 1, 1, 1, 0, 1, 1, 1, 1, 1, 1,\n",
       "       0, 0, 1, 0, 0, 1, 0, 0, 1, 1, 1, 0, 1, 1, 1, 1, 1, 1, 1, 0, 1, 1,\n",
       "       1, 1, 1, 1, 1, 0, 1, 0, 1, 1, 1, 1, 1, 1, 0, 1, 1, 0, 1, 1, 0, 0,\n",
       "       1, 1, 1, 1, 0, 1, 1, 1, 1, 0, 0, 0, 1, 1, 1, 0, 1, 1, 0, 1, 0, 1,\n",
       "       1, 1, 1, 1, 1, 1, 1, 0, 0, 1, 1, 1, 1, 1, 1, 1, 1, 1, 1, 1, 1, 0,\n",
       "       0, 1, 0, 1, 1, 1, 1, 0, 1, 0, 0, 0, 0, 1, 1, 1, 1, 0, 1, 1, 1, 1,\n",
       "       1, 0, 1, 0, 1, 1, 1, 1, 0, 1, 1, 0, 1, 1, 1, 0, 0, 1, 1, 0, 0, 1,\n",
       "       1, 1, 1, 0, 1, 0, 1, 1, 1, 1, 1, 1, 0, 1, 1, 1, 1, 1, 1, 1, 0, 1,\n",
       "       0, 1, 1, 1, 1, 1, 1, 1, 1, 1, 1, 1, 1, 1, 1, 0, 1, 1, 0, 1, 1, 0,\n",
       "       1, 1, 1, 1, 1, 1, 1, 0, 0, 1, 1, 1, 1, 1, 1, 1, 1, 1, 1, 1, 1, 1,\n",
       "       1, 1, 0, 1, 0, 1, 0, 1, 0, 1, 1, 1, 1, 1, 0, 1, 1, 1, 1, 1, 1, 1,\n",
       "       1, 1, 0, 0, 1, 1, 1, 0, 1, 1, 1, 1, 1, 1, 1, 1, 1, 0, 1, 1, 1, 1,\n",
       "       1, 1, 1, 1, 1, 1, 1, 1, 0, 1, 1, 1, 1, 0, 1, 1, 1, 1, 1, 0, 0, 1,\n",
       "       0, 1, 1, 1, 1, 0, 1, 1, 0, 0, 1, 1, 0, 1, 1, 1, 1, 1, 1, 1, 1, 1,\n",
       "       1, 0, 1, 1, 1, 0, 1, 1, 1, 1, 1, 1, 1, 1, 1, 1, 0, 1, 1, 0, 1, 1,\n",
       "       1, 1, 1, 1, 1, 1, 1, 1, 1, 1, 1, 1, 1, 0, 0, 1, 1, 1, 1, 1, 0, 1,\n",
       "       1, 1, 1, 1, 0, 1, 1, 1, 0, 1, 0, 1, 1, 1, 1, 1, 1, 0, 0, 1, 1, 1,\n",
       "       0, 0, 0, 1, 1, 1, 0, 1, 1, 0, 1, 1, 0, 1, 1, 1, 0, 0, 1, 1, 1, 1,\n",
       "       0, 1, 1, 1, 1, 1, 1, 1, 0, 1, 1, 1, 0, 1, 1, 1, 1, 1, 1, 1, 1, 1,\n",
       "       0, 0, 1, 0, 1, 1, 1, 1, 1, 1, 0, 1, 1, 1, 1, 1, 1, 1, 1, 1, 1, 1,\n",
       "       1, 1, 0, 1, 1, 0, 1, 1, 1, 1, 1, 1, 1, 1, 1, 1, 1, 1, 1, 1, 1, 0,\n",
       "       0, 1, 1, 1, 1, 1, 1, 1, 1, 1, 1, 1, 1, 1, 1, 1, 0, 1, 1, 1, 1, 1,\n",
       "       1, 1, 0, 1, 1, 1, 1, 1, 0, 1, 1, 1, 0, 1, 1, 1, 1, 1, 1, 1, 1, 0,\n",
       "       1, 1, 1, 1, 1, 1, 0, 0, 1, 1, 1, 1, 0, 1, 0, 1, 1, 0, 0, 1, 1, 1,\n",
       "       1, 1, 1, 0, 0, 1, 1, 0, 1, 1, 1, 1, 1, 1, 1, 1, 1, 1, 1, 1, 1, 0,\n",
       "       0, 1, 0, 1, 1, 1, 1, 0, 0, 1, 0, 1, 1, 1, 1, 1, 1, 1, 1, 0, 1, 1,\n",
       "       1, 1, 1, 1, 1, 1, 1, 0, 1, 1, 1, 0, 1, 1, 1, 0, 1, 0, 1, 0, 1, 1,\n",
       "       1, 1, 1, 0, 1], dtype=int64)"
      ]
     },
     "execution_count": 13,
     "metadata": {},
     "output_type": "execute_result"
    },
    {
     "data": {
      "text/plain": [
       "'df test gender prediction array:'"
      ]
     },
     "execution_count": 13,
     "metadata": {},
     "output_type": "execute_result"
    },
    {
     "data": {
      "text/plain": [
       "array([1, 1, 1, 1, 1, 1, 1, 1, 1, 1, 1, 1, 1, 1, 1, 1, 1, 1, 0, 1, 1, 1,\n",
       "       1, 1, 1, 1, 1, 1, 1, 1, 1, 1, 1, 1, 1, 1, 1, 1, 1, 1, 1, 1, 1, 1,\n",
       "       1, 1, 1, 1, 1, 1, 1, 1, 1, 1, 1, 1, 1, 1, 1, 1, 1, 1, 1, 1, 0, 1,\n",
       "       1, 1, 1, 1, 1, 1, 1, 1, 1, 1, 1, 1, 1, 1, 1, 1, 1, 1, 1, 1, 1, 0,\n",
       "       1, 1, 1, 1, 1, 1, 1, 1, 1, 1, 1, 1, 1, 1, 1, 1, 1, 1, 1, 1, 1, 1,\n",
       "       1, 1, 1, 1, 1, 1, 1, 1, 1, 1, 1, 1, 1, 1, 1, 1, 1, 1, 1, 1, 1, 1,\n",
       "       1, 1, 1, 1, 1, 1, 1, 1, 1, 1, 1, 1, 1, 1, 1, 1, 1, 1, 1, 1, 1, 1,\n",
       "       1, 1, 1, 1, 1, 1, 1, 1, 1, 1, 1, 1, 1, 1, 1, 1, 1, 1, 1, 1, 1, 1,\n",
       "       1, 1, 1, 1, 1, 1, 1, 1, 1, 1, 1, 1, 1, 1, 1, 1, 1, 1, 1, 1, 1, 1,\n",
       "       1, 0, 1, 1, 1, 1, 1, 1, 1, 1, 1, 0, 1, 1, 1, 1, 1, 1, 1, 1, 1, 1,\n",
       "       1, 1, 1, 1, 1, 1, 1, 1, 1, 1, 1, 1, 1, 1, 1, 1, 1, 1, 1, 1, 1, 1,\n",
       "       1, 1, 1, 1, 1, 1, 1, 1, 1, 1, 1, 1, 1, 1, 1, 1, 1, 1, 1, 1, 1, 1,\n",
       "       1, 1, 1, 1, 1, 1, 1, 1, 1, 1, 1, 1, 1, 1, 1, 1, 1, 1, 1, 1, 1, 1,\n",
       "       1, 1, 1, 1, 1, 1, 1, 1, 1, 1, 1, 1, 1, 1, 1, 1, 1, 1, 1, 1, 1, 1,\n",
       "       1, 1, 1, 1, 1, 1, 1, 1, 1, 1, 1, 1, 1, 1, 1], dtype=int64)"
      ]
     },
     "execution_count": 13,
     "metadata": {},
     "output_type": "execute_result"
    }
   ],
   "source": [
    "knn_params ={'n_neighbors':[3,5,7,9],'metric':['euclidean','manhattan']} \n",
    "clk_c=KNeighborsClassifier()\n",
    "\n",
    "clk2=GridSearchCV(clk_c,knn_params,cv=10)   #Grid search\n",
    "clk=KNeighborsClassifier(n_neighbors=3)\n",
    "clk.fit(X,y)\n",
    "scores1 = cross_val_score(clk,X,y,cv=10)   #Cross-validation\n",
    "\n",
    "GridRes=clk2.fit(X,y)\n",
    "print('KNeighborsClassifier and GridSearch:')\n",
    "'best params: ' \n",
    "GridRes.best_params_\n",
    "print('Cross validation Score: ',GridRes.best_score_)\n",
    "\n",
    "\n",
    "#print()\n",
    "yk_pred=clk.predict(vect)   #test set predictions with KNeighborsClassifier\n",
    "ykg_pred=clk2.predict(vect) #test set predictions with KNeighborsClassifier+Grid search\n",
    "print('macro avg f1 score with KNeighborsClassifier and GridSearch=',f1_score(y, ykg_pred, average='macro'))\n",
    "print()\n",
    "\n",
    "print(metrics.confusion_matrix(y_true=y,y_pred=ykg_pred))\n",
    "\n",
    "print()\n",
    "print()\n",
    "\n",
    "print('KNeighborsClassifier without GridSearch:')\n",
    "print()\n",
    "\n",
    "print('Cross validation mean score=',scores1.mean())\n",
    "print()\n",
    "print('Accuracy=',metrics.accuracy_score(y_true=y,y_pred=yk_pred))\n",
    "#print(classification_report(y,yk_pred,digits=4))\n",
    "print('macro avg f1 score with KNeighborsClassifier=',f1_score(y, yk_pred, average='macro'))\n",
    "print(metrics.confusion_matrix(y_true=y,y_pred=yk_pred))\n",
    "print()\n",
    "\n",
    "clf=MultinomialNB()\n",
    "\n",
    "scores = cross_val_score(clf,X,y,cv=10)\n",
    "\n",
    "clf.fit(X,y)\n",
    "print('Cross validation mean score=',scores.mean())\n",
    "\n",
    "\n",
    "sample_story=(df_test.iloc[18,1])\n",
    "#sample_story\n",
    "sample_story=[sample_story]\n",
    "sample_storys=df_names.story\n",
    "#sample_storys\n",
    "sample_storys2=df_names2.story\n",
    "\n",
    "y_pred=clf.predict(vect)   #train set predictions with MultinomialNB\n",
    "\n",
    "vect1=cv1.transform(sample_storys2).toarray()   \n",
    "y1_pred=clf.predict(vect1) #test set predictions with MultinomialNB\n",
    "\n",
    "print()\n",
    "print('Accuracy=',metrics.accuracy_score(y_true=y,y_pred=y_pred))\n",
    "print('macro avg f1 score with MultinomialNB=',f1_score(y, y_pred, average='macro'))\n",
    "print(metrics.confusion_matrix(y_true=y,y_pred=y_pred))\n",
    "'df train gender array:'\n",
    "y_pred\n",
    "'df test gender prediction array:'\n",
    "\n",
    "y1_pred\n"
   ]
  },
  {
   "cell_type": "code",
   "execution_count": null,
   "metadata": {},
   "outputs": [],
   "source": []
  },
  {
   "cell_type": "code",
   "execution_count": 14,
   "metadata": {
    "scrolled": true
   },
   "outputs": [
    {
     "data": {
      "text/plain": [
       "(array([[178.,   0.,   0.,   0.,   0.,   0.,   0.,   0.,   0.,   0.,   0.,\n",
       "           0.,   0.,   0.,   0.,   0.,   0.,   0.,   0., 575.],\n",
       "        [175.,   0.,   0.,   0.,   0.,   0.,   0.,   0.,   0.,   0.,   0.,\n",
       "           0.,   0.,   0.,   0.,   0.,   0.,   0.,   0., 578.]]),\n",
       " array([0.  , 0.05, 0.1 , 0.15, 0.2 , 0.25, 0.3 , 0.35, 0.4 , 0.45, 0.5 ,\n",
       "        0.55, 0.6 , 0.65, 0.7 , 0.75, 0.8 , 0.85, 0.9 , 0.95, 1.  ]),\n",
       " <a list of 2 BarContainer objects>)"
      ]
     },
     "execution_count": 14,
     "metadata": {},
     "output_type": "execute_result"
    },
    {
     "data": {
      "text/plain": [
       "<matplotlib.legend.Legend at 0x19f9d374c70>"
      ]
     },
     "execution_count": 14,
     "metadata": {},
     "output_type": "execute_result"
    },
    {
     "data": {
      "text/plain": [
       "Text(0.5, 1.0, 'Genders in train-set and Predicted Genders for train-set')"
      ]
     },
     "execution_count": 14,
     "metadata": {},
     "output_type": "execute_result"
    },
    {
     "data": {
      "text/plain": [
       "Text(0.5, 0, 'Genders')"
      ]
     },
     "execution_count": 14,
     "metadata": {},
     "output_type": "execute_result"
    },
    {
     "data": {
      "text/plain": [
       "Text(0, 0.5, 'Amount')"
      ]
     },
     "execution_count": 14,
     "metadata": {},
     "output_type": "execute_result"
    },
    {
     "data": {
      "text/plain": [
       "([<matplotlib.axis.XTick at 0x19f9c9f78b0>,\n",
       "  <matplotlib.axis.XTick at 0x19f9c9f7970>],\n",
       " [Text(1, 0, 'Male'), Text(0, 0, 'Female')])"
      ]
     },
     "execution_count": 14,
     "metadata": {},
     "output_type": "execute_result"
    },
    {
     "data": {
      "image/png": "[encoded data removed]",
      "text/plain": [
       "<Figure size 432x288 with 1 Axes>"
      ]
     },
     "metadata": {
      "needs_background": "light"
     },
     "output_type": "display_data"
    }
   ],
   "source": [
    "df_res=df_test.copy()\n",
    "df_res['Prediction']=y1_pred.tolist()\n",
    "df_res_train=df_train.copy()\n",
    "df_res_train['Prediction']=y_pred.tolist()\n",
    "\n",
    "df_predicted=df_res[['test_example_id','Prediction']]\n",
    "df_predicted.Prediction.replace({0:'female',1:'male'},inplace=True)\n",
    "\n",
    "plt.hist([df_train[\"gender\"],df_res_train[\"Prediction\"]],bins=20,color=['green','orange'],label=['train','train-pred'])\n",
    "#plt.hist(df_res[\"Prediction\"],color=['orange'],bins=20,label=['test'])\n",
    "plt.legend(loc='upper right')\n",
    "\n",
    "plt.title('Genders in train-set and Predicted Genders for train-set')\n",
    "plt.xlabel('Genders')\n",
    "plt.ylabel('Amount')\n",
    "plt.xticks([1,0],[\"Male\",\"Female\"])\n",
    "\n",
    "\n",
    "\n",
    "\n"
   ]
  },
  {
   "cell_type": "code",
   "execution_count": 15,
   "metadata": {},
   "outputs": [
    {
     "data": {
      "text/plain": [
       "(array([[178.,   0.,   0.,   0.,   0.,   0.,   0.,   0.,   0.,   0.,   0.,\n",
       "           0.,   0.,   0.,   0.,   0.,   0.,   0.,   0., 575.],\n",
       "        [  5.,   0.,   0.,   0.,   0.,   0.,   0.,   0.,   0.,   0.,   0.,\n",
       "           0.,   0.,   0.,   0.,   0.,   0.,   0.,   0., 318.]]),\n",
       " array([0.  , 0.05, 0.1 , 0.15, 0.2 , 0.25, 0.3 , 0.35, 0.4 , 0.45, 0.5 ,\n",
       "        0.55, 0.6 , 0.65, 0.7 , 0.75, 0.8 , 0.85, 0.9 , 0.95, 1.  ]),\n",
       " <a list of 2 BarContainer objects>)"
      ]
     },
     "execution_count": 15,
     "metadata": {},
     "output_type": "execute_result"
    },
    {
     "data": {
      "text/plain": [
       "<matplotlib.legend.Legend at 0x19f9d3f4c40>"
      ]
     },
     "execution_count": 15,
     "metadata": {},
     "output_type": "execute_result"
    },
    {
     "data": {
      "text/plain": [
       "Text(0.5, 1.0, 'Genders in train-set and Predicted Genders for test-set')"
      ]
     },
     "execution_count": 15,
     "metadata": {},
     "output_type": "execute_result"
    },
    {
     "data": {
      "text/plain": [
       "Text(0.5, 0, 'Genders')"
      ]
     },
     "execution_count": 15,
     "metadata": {},
     "output_type": "execute_result"
    },
    {
     "data": {
      "text/plain": [
       "Text(0, 0.5, 'Amount')"
      ]
     },
     "execution_count": 15,
     "metadata": {},
     "output_type": "execute_result"
    },
    {
     "data": {
      "text/plain": [
       "([<matplotlib.axis.XTick at 0x19fb08e9ca0>,\n",
       "  <matplotlib.axis.XTick at 0x19fb08e9970>],\n",
       " [Text(1, 0, 'Male'), Text(0, 0, 'Female')])"
      ]
     },
     "execution_count": 15,
     "metadata": {},
     "output_type": "execute_result"
    },
    {
     "data": {
      "image/png": "[encoded data removed]",
      "text/plain": [
       "<Figure size 432x288 with 1 Axes>"
      ]
     },
     "metadata": {
      "needs_background": "light"
     },
     "output_type": "display_data"
    }
   ],
   "source": [
    "plt.hist([df_train[\"gender\"],df_res[\"Prediction\"]],bins=20,color=['blue','orange'],label=['train','test-pred'])\n",
    "#plt.hist(df_res[\"Prediction\"],color=['orange'],bins=20,label=['test'])\n",
    "plt.legend(loc='upper right')\n",
    "\n",
    "plt.title('Genders in train-set and Predicted Genders for test-set')\n",
    "plt.xlabel('Genders')\n",
    "plt.ylabel('Amount')\n",
    "plt.xticks([1,0],[\"Male\",\"Female\"])"
   ]
  },
  {
   "cell_type": "code",
   "execution_count": 16,
   "metadata": {},
   "outputs": [
    {
     "data": {
      "text/html": [
       "<div>\n",
       "<style scoped>\n",
       "    .dataframe tbody tr th:only-of-type {\n",
       "        vertical-align: middle;\n",
       "    }\n",
       "\n",
       "    .dataframe tbody tr th {\n",
       "        vertical-align: top;\n",
       "    }\n",
       "\n",
       "    .dataframe thead th {\n",
       "        text-align: right;\n",
       "    }\n",
       "</style>\n",
       "<table border=\"1\" class=\"dataframe\">\n",
       "  <thead>\n",
       "    <tr style=\"text-align: right;\">\n",
       "      <th></th>\n",
       "      <th>test_example_id</th>\n",
       "      <th>Prediction</th>\n",
       "    </tr>\n",
       "  </thead>\n",
       "  <tbody>\n",
       "    <tr>\n",
       "      <th>0</th>\n",
       "      <td>0</td>\n",
       "      <td>male</td>\n",
       "    </tr>\n",
       "    <tr>\n",
       "      <th>1</th>\n",
       "      <td>1</td>\n",
       "      <td>male</td>\n",
       "    </tr>\n",
       "    <tr>\n",
       "      <th>2</th>\n",
       "      <td>2</td>\n",
       "      <td>male</td>\n",
       "    </tr>\n",
       "    <tr>\n",
       "      <th>3</th>\n",
       "      <td>3</td>\n",
       "      <td>male</td>\n",
       "    </tr>\n",
       "    <tr>\n",
       "      <th>4</th>\n",
       "      <td>4</td>\n",
       "      <td>male</td>\n",
       "    </tr>\n",
       "  </tbody>\n",
       "</table>\n",
       "</div>"
      ],
      "text/plain": [
       "   test_example_id Prediction\n",
       "0                0       male\n",
       "1                1       male\n",
       "2                2       male\n",
       "3                3       male\n",
       "4                4       male"
      ]
     },
     "execution_count": 16,
     "metadata": {},
     "output_type": "execute_result"
    },
    {
     "data": {
      "text/html": [
       "<div>\n",
       "<style scoped>\n",
       "    .dataframe tbody tr th:only-of-type {\n",
       "        vertical-align: middle;\n",
       "    }\n",
       "\n",
       "    .dataframe tbody tr th {\n",
       "        vertical-align: top;\n",
       "    }\n",
       "\n",
       "    .dataframe thead th {\n",
       "        text-align: right;\n",
       "    }\n",
       "</style>\n",
       "<table border=\"1\" class=\"dataframe\">\n",
       "  <thead>\n",
       "    <tr style=\"text-align: right;\">\n",
       "      <th></th>\n",
       "      <th>test_example_id</th>\n",
       "      <th>Prediction</th>\n",
       "    </tr>\n",
       "  </thead>\n",
       "  <tbody>\n",
       "    <tr>\n",
       "      <th>318</th>\n",
       "      <td>318</td>\n",
       "      <td>male</td>\n",
       "    </tr>\n",
       "    <tr>\n",
       "      <th>319</th>\n",
       "      <td>319</td>\n",
       "      <td>male</td>\n",
       "    </tr>\n",
       "    <tr>\n",
       "      <th>320</th>\n",
       "      <td>320</td>\n",
       "      <td>male</td>\n",
       "    </tr>\n",
       "    <tr>\n",
       "      <th>321</th>\n",
       "      <td>321</td>\n",
       "      <td>male</td>\n",
       "    </tr>\n",
       "    <tr>\n",
       "      <th>322</th>\n",
       "      <td>322</td>\n",
       "      <td>male</td>\n",
       "    </tr>\n",
       "  </tbody>\n",
       "</table>\n",
       "</div>"
      ],
      "text/plain": [
       "     test_example_id Prediction\n",
       "318              318       male\n",
       "319              319       male\n",
       "320              320       male\n",
       "321              321       male\n",
       "322              322       male"
      ]
     },
     "execution_count": 16,
     "metadata": {},
     "output_type": "execute_result"
    }
   ],
   "source": [
    "df_predicted.head(5)\n",
    "df_predicted.tail(5)"
   ]
  },
  {
   "cell_type": "code",
   "execution_count": 17,
   "metadata": {},
   "outputs": [
    {
     "data": {
      "text/html": [
       "<div>\n",
       "<style scoped>\n",
       "    .dataframe tbody tr th:only-of-type {\n",
       "        vertical-align: middle;\n",
       "    }\n",
       "\n",
       "    .dataframe tbody tr th {\n",
       "        vertical-align: top;\n",
       "    }\n",
       "\n",
       "    .dataframe thead th {\n",
       "        text-align: right;\n",
       "    }\n",
       "</style>\n",
       "<table border=\"1\" class=\"dataframe\">\n",
       "  <thead>\n",
       "    <tr style=\"text-align: right;\">\n",
       "      <th></th>\n",
       "      <th>test_example_id</th>\n",
       "      <th>Prediction</th>\n",
       "    </tr>\n",
       "  </thead>\n",
       "  <tbody>\n",
       "    <tr>\n",
       "      <th>18</th>\n",
       "      <td>18</td>\n",
       "      <td>female</td>\n",
       "    </tr>\n",
       "  </tbody>\n",
       "</table>\n",
       "</div>"
      ],
      "text/plain": [
       "    test_example_id Prediction\n",
       "18               18     female"
      ]
     },
     "execution_count": 17,
     "metadata": {},
     "output_type": "execute_result"
    },
    {
     "data": {
      "text/plain": [
       "'החוויה הראשונה שאספר עליה היא שטסתי במשלחת גדולה של ריקוד ישראלי לפריז פראג וצכיה. אני רוקדת בלהקת בלט ישראלי מאז גיל 3. כל חיי הקדשתי לריקוד והייתי מתאמנת שעות לא שעות מאחרי הלימודים ועד שעות הערב המאוחרות. ריקוד הוא המקום הבטוח והנעים שלי, שם אני מרגישה בבית, צוברת חוויות ושמתפרת משנה לשנה. קיימים אתגרים גדולים בעולם הריקוד שיש להתמודד איתם בכל יום כמו סיבולת לב ריאה, ריכוז, לדעת לעמוד על במה, לדעת לעבוד כקבוצה ולהיות נטולי אגו, פרגון והכלה. במסגרת הלהקה אנחנו משתתפים בתחרויות רבות במופעי סולו, כקבוצה, בפסטיבלים ובכל מיני אירועים גדולים במיוחד. הלהקה מורכבת מבנות ובנים בני גילאים שונים שאוהבים לעסוק בעולם הריקוד ומהחול ומוכנים להקדיש מזמם הפרטי והאישי. במסגרת ההופעות הגדולות שאנחנו מופיעים טסנו להופיע בדיסני בפריז. תחילה, מאוד חששנו לטוס, להופיע במסגרת כזאת לכמות כל כך גדולה של אנשים עדיין לא יצא לנו אבל כמובן שרצינו לאתגר את עצמנו והסכמנו לנסיעה. בתכנון הלו\" \"ז ותכנון הימים הכנסו הופעות רבות אך גם המון זמן חופשי, זמן בזבוזים, להיות במגדל אייפל, לעשות סדנאות רבות לשוט בספינה ואפילו לראות הופעת אופרה. נערכנו לטיסה זאת שבועות ארוכים, הכנו ריקודים חדשים שקשורים לדיסני (טרזן, מלך האריות וכו\\'), היינו יושבים ימים כלילות על ניקיון הריקוד ועל חזרות על הסלואים ושהמעברים יהיו מדויקים ויצאנו לדרך. לאורך כל הטיול התחברנו מאוד, עשינו מלא דברים כיפים וחיובים ונערכנו להופעה הגדולה בדיסני. בתכנון היה צריך להיות מופע שירה בין שני ריקודים שלנו מה שיאפשר לנו זמן להחליף בגדים ולהיות מוכנים לריקוד. לצערי, ברגע האחרון הזמר לא הגיע והיה מוטל עלינו לרקוד ריקוד אחרי ריקוד. הריקוד הראשון הסתיים ורצתי כמו שיותר מהר להחליף בגדים משום שקיבלתי סולו לבד בריקוד שצריך כבר להתחיל. כל חבורתי ישר נרתמו ובאו לעזור לי להספיק להתחיל את הריקוד בזמן ובאמת הצלחתי להתחיל כמו שצריך, אך בריקוד זה היה לנו כובע שנפל לי על הפנים תוך כדי ריקוד. התבאסתי מאוד כי זהו מעמד מאוד גדול להופיע בדיסני והכל ממש \" \"נהרס\" \" לי. בסיום הריקוד ממש התבאסתי על עצמי ועל הסיטואציה שקרתה ככה אך בכל זאת כל הקהל הריע ופרגן על ההופעה. אחרי זה המשכנו להסתובב בדיסני ולראות את מופע הסגירה ולהיות עם כל החברים. חוויה זו תהיה טמונה בזכרוני לכל החיים ואני שמחה שעברתי אותה ולמדתי ממנה המון.'"
      ]
     },
     "execution_count": 17,
     "metadata": {},
     "output_type": "execute_result"
    }
   ],
   "source": [
    "df_predicted.iloc[18:19,:]\n",
    "df_res.iloc[18,1]"
   ]
  },
  {
   "cell_type": "code",
   "execution_count": 18,
   "metadata": {},
   "outputs": [
    {
     "data": {
      "text/html": [
       "<div>\n",
       "<style scoped>\n",
       "    .dataframe tbody tr th:only-of-type {\n",
       "        vertical-align: middle;\n",
       "    }\n",
       "\n",
       "    .dataframe tbody tr th {\n",
       "        vertical-align: top;\n",
       "    }\n",
       "\n",
       "    .dataframe thead th {\n",
       "        text-align: right;\n",
       "    }\n",
       "</style>\n",
       "<table border=\"1\" class=\"dataframe\">\n",
       "  <thead>\n",
       "    <tr style=\"text-align: right;\">\n",
       "      <th></th>\n",
       "      <th>test_example_id</th>\n",
       "      <th>Prediction</th>\n",
       "    </tr>\n",
       "  </thead>\n",
       "  <tbody>\n",
       "    <tr>\n",
       "      <th>64</th>\n",
       "      <td>64</td>\n",
       "      <td>female</td>\n",
       "    </tr>\n",
       "  </tbody>\n",
       "</table>\n",
       "</div>"
      ],
      "text/plain": [
       "    test_example_id Prediction\n",
       "64               64     female"
      ]
     },
     "execution_count": 18,
     "metadata": {},
     "output_type": "execute_result"
    },
    {
     "data": {
      "text/plain": [
       "'פעם נסעתי במסגרת עבודתי כשליחה ברחוב רוטשילד בראשון לציון מכיוון מזרח למערב. כשהגעתי לצומת של רחוב בן גוריון מצד ימין ושפרינצק מצד שמאל פניתי ימינה לרחוב בן גוריון. לאחר כמאה מטרים הגעתי לכיכר השוטר. בכיכר פניתי ימינה לכיוון רחוב ברל כצנלסון. לצערי גיליתי שהתבלבלתי בדרך ולכן פניתי ימינה לרחוב התקווה ובהגיעי לצומת טי פניתי ימינה לרחוב רוטשילד. לפתע קפץ הולך רגל לכביש עם חתול בידו, מיד בלמתי בלימת חירום. הולך הרגל נבהל ופרש את ידיו לאוויר וצעק \" \"אוי גוועלד\" \". כתוצאה מכך החתול הכתום ושמו גרפילד שעד אותה עת היה בידיו, נפל על הראש שלו ומכאן למדתי שחתול לא תמיד נוחת על הרגליים. פניתי לאיש ושאלתי לשלומו. הוא ענה לי שהוא מרגיש בסדר ורק נבהל. האיש הרים את החתול בידיו והמשיך לדרכו בעודו ממלמל לכיוון החתול \" \"זהו גרפילד, הולכים הביתה…\" \". המשכתי מערבה על רחוב רוטשילד כל הדרך עד צומת בן גוריון שבו המשכתי לכיוון שער ראשון. בשער ראשון גם החלטתי להמשיך ישר כל הדרך עד קרית גנים השכונה הטובה בעולם. כשהגעתי לכתובת המיוחלת, מסרתי את המשלוח למזמין. המזמין קיבל את המשלוח בשמחה רבה ובטוב לבב. קיבלתי תשר למרות הגעתי באיחור קל עקב המקרה שאירע בצומת התקווה רוטשילד. משם המשכתי לביתי לקרוא את הסיפור הנחמד \" \"ברכבת יושבת ארנבת\" \" של טובה שינברג: \" \"הנה רכבת. ברכבת יושבת ארנבת. יושב גם דובון, גם בובה ברכבת יושבתב ליד החלון. בובה חמודה בשמלה ורודה וילדה על ידה. טו.. טו.. טו.. נוסעת רכבת. לאן? לטייל! עם ארנבת, דובון, בובה בשמלה ורודה וילדה. טו! טו! טו! רכבת נוסעת מהר. ארנבת, ילדה, בובה בשמלה ורודה ודובון מסתכלים בחלון. הנה ים! איפה ים? הים נעלם! הנה הר! איפה הר? גם ההר כבר עבר! הנה עץ ופרפר על ענף מרפרף, מעופף, מתרומם.. ועף. הנה בית קטן וגינה, ליד הגינה, תחנה. טו! טו! טו! תחנה! עולה חתולה לבנה. עולה גם חתול, מניף זנב בעיגול. טו.. טו.. טו.. הרכבת נוסעת. דובון רואה איך השמש שוקעת. גם ארנבת רואה בחלון איך השמש שוכבת לישון. טו! טו! טו! עוצרת רכבת, תחנה אחרונה יורדים: חתולה לבנה, ילדה, בובה בשמלה ורודה, דובון וארנבת אומרים שלום לרכבת, יורד גם חתול (מניף זנב בעיגול). נגמר הטיול.\" \"'"
      ]
     },
     "execution_count": 18,
     "metadata": {},
     "output_type": "execute_result"
    }
   ],
   "source": [
    "df_predicted.iloc[64:65,:]\n",
    "df_res.iloc[64,1]"
   ]
  },
  {
   "cell_type": "code",
   "execution_count": 19,
   "metadata": {},
   "outputs": [
    {
     "data": {
      "text/html": [
       "<div>\n",
       "<style scoped>\n",
       "    .dataframe tbody tr th:only-of-type {\n",
       "        vertical-align: middle;\n",
       "    }\n",
       "\n",
       "    .dataframe tbody tr th {\n",
       "        vertical-align: top;\n",
       "    }\n",
       "\n",
       "    .dataframe thead th {\n",
       "        text-align: right;\n",
       "    }\n",
       "</style>\n",
       "<table border=\"1\" class=\"dataframe\">\n",
       "  <thead>\n",
       "    <tr style=\"text-align: right;\">\n",
       "      <th></th>\n",
       "      <th>test_example_id</th>\n",
       "      <th>Prediction</th>\n",
       "    </tr>\n",
       "  </thead>\n",
       "  <tbody>\n",
       "    <tr>\n",
       "      <th>199</th>\n",
       "      <td>199</td>\n",
       "      <td>female</td>\n",
       "    </tr>\n",
       "  </tbody>\n",
       "</table>\n",
       "</div>"
      ],
      "text/plain": [
       "     test_example_id Prediction\n",
       "199              199     female"
      ]
     },
     "execution_count": 19,
     "metadata": {},
     "output_type": "execute_result"
    },
    {
     "data": {
      "text/plain": [
       "'לפני כשנתיים החלטתי להזמין טיסה לחופשת סקי בבנסקו. חיכיתי לחופשת הסקי המון זמן והתרגשתי שאגשים חלום. מספר שבועות לפני הטיסה התחלנו לשמוע בחדשות על מגיפה קטלנית שהתפרצה בסין במחוז ואהן וכמובן שחששנו אך היינו בטוחים שהמגיפה תחלוף ולא תתפרץ לשאר הארצות בעולם. בתקופה שלפני מועד הטיסה שהתקרב שמענו שמגיפת הקורונה התפשטה לארצות רבות בעולם ואפילו בישראל החלו לחשוש ולרכוש ציוד מגן, מסיכות, חומרי חיטוי וכפפות. החלטנו להסתכן וטסנו בכל זאת לחופשת סקי, כשהגענו לשדה התעופה התחלנו לראות את האיימה על פניהם של האנשים שחזרו מהארצות הנגועות בנגיף. כולם הלכו עם מסיכות והתשתדלו לשמור על מרחק מקסימלי בין אדם לאדם כדי שחס וחלילה לא יקרה מצב בו אנשים ידביקו אחד את השני. עלינו על המטוס וטסנו לחופשה, הגענו לאתר הנופש שבו עושים את חופשת הסקי והתרווחנו, שם עדין אנשים לא הלכו עם מסיכות על הפנים והרגישו יותר חופשיים. במהלך החופשה היינו מחוברים לאתרי החדשות בארץ ועקבנו אחרי ההתרחשויות, התחילו להיות חולים בארץ והתחלנו לחשוש נורא. לאחר מספר ימים אמרו בחדשות שכנראה לא יאפשרו לאנשים להכנס לארץ החוזרים מארצות מסויימות ולאחר מכן ההחלטה הייתה שאנשים יצטרכו לשהות בבידוד שבועיים כהנחייה של הממשלה ומשרד הבריאות. מאוד חששנו איך נחזור ופחדנו שלא יתנו לנו להכנס לארץ. כך כמעט כל החופשה בערך שבוע שקענו בחדשות ולא הצלחנו להנות מהחופש או מחוויית הסקי והשלג. שוב נכנסנו לאתרי חדשות וראינו שהמצב מחמיר מיום ליום, משעה לשעה ההנחיות נעשות יותר נוקשות ולא היה ניתן לדעת מה יהיה ביום למחרת. לבסוף כשהסתיימה שהותנו במלון ולאחר שהבנו שכנראה עלינו להכנס לבידוד בארץ נסענו לשדה התעופה ורק רצינו להגיע הביתה בריאים ושלמים. בשדה התעופה עיקבו אותנו ולא נתנו לנו לעלות על הטיסה עד שהמטוס יעבור חיטוי יסודי, כל הצוות היה ממוגן בעוד שאנחנו רק עם מסיכות והחששות התגברו. כל כך רצינו רק להגיע לבית שהיינו מוכנים גם לטוס בעמידה אם יגידו לנו. כשנחתנו בישראל, יצאנו משדה התעופה שמחים ומאושרים שהגענו הביתה בריאים ושלמים.'"
      ]
     },
     "execution_count": 19,
     "metadata": {},
     "output_type": "execute_result"
    }
   ],
   "source": [
    "df_predicted.iloc[199:200,:]\n",
    "df_res.iloc[199,1]"
   ]
  },
  {
   "cell_type": "code",
   "execution_count": 20,
   "metadata": {},
   "outputs": [
    {
     "data": {
      "text/html": [
       "<div>\n",
       "<style scoped>\n",
       "    .dataframe tbody tr th:only-of-type {\n",
       "        vertical-align: middle;\n",
       "    }\n",
       "\n",
       "    .dataframe tbody tr th {\n",
       "        vertical-align: top;\n",
       "    }\n",
       "\n",
       "    .dataframe thead th {\n",
       "        text-align: right;\n",
       "    }\n",
       "</style>\n",
       "<table border=\"1\" class=\"dataframe\">\n",
       "  <thead>\n",
       "    <tr style=\"text-align: right;\">\n",
       "      <th></th>\n",
       "      <th>test_example_id</th>\n",
       "      <th>Prediction</th>\n",
       "    </tr>\n",
       "  </thead>\n",
       "  <tbody>\n",
       "    <tr>\n",
       "      <th>209</th>\n",
       "      <td>209</td>\n",
       "      <td>female</td>\n",
       "    </tr>\n",
       "  </tbody>\n",
       "</table>\n",
       "</div>"
      ],
      "text/plain": [
       "     test_example_id Prediction\n",
       "209              209     female"
      ]
     },
     "execution_count": 20,
     "metadata": {},
     "output_type": "execute_result"
    },
    {
     "data": {
      "text/plain": [
       "\"במהלך השנה האחרונה אני ובן זוגי קיבלנו החלטה להתנדב פעם בשבוע בעמותת 'לחיות בכבוד' במקביל לתרומות שאנחנו מבצעים לעמותה כבר מספר שנים. הגדרנו בינינו שההתנדבות שניקח על עצמנו תהיה בכל יום שלישי בין השעות 06:00 – 08:00 בבוקר לאריזת חמגשיות לאוכלוסיות קשות יום - בעיקר ניצולי שואה וקשישים שאינם יכולים להכין אוכל חם לבדם. העמותה שואפת לאפשר לכולם את הצורך הבסיסי ועל כך שמה – לחיות בכבוד. העמותה נמצאת במתחם בראשון לציון ושם מנהלת את הכנת המזון ואריזתו כמידי יום. העמותה מתבססת על מתנדבים שמגיעים בבקרים לארוז את האוכל המוכן לקופסאות ממותגות הכוללות מנת בשר, פחמימה וירק. בעלי העמותה הם משפחה שומרת מסורת מאזור המרכז בהובלת ילדם האמצעי מתוך 12 ילדים שעוסקים במלאכה זאת מתוך שליחות ורצון לעזור לאחר. המשפחה נמצאת במתחם בשעות קיצוניות ועושה את הפעילות מלב שלם, טהור ומתוך נתינה אין סופית כל יום מחדש. הגענו לעמותה דרך חברים משותפים שנמצאים בה ומתנדבים כבר מספר חודשים, כך ששיתפו אותנו בתחושותיהם והציתו בנו את הרצון להתחיל את הפרוייקט ולהתנדב אחת לשבוע. בתחושותינו , זה המעט שאנחנו יכולים לעשות למען האוכלוסיות החלשות שכמעט ולא מקבלות זרקור בחיי היום-יום. ההתנדבות עבורי ועבור בן זוגי הייתה מספקת, מחממת את הלב וממלאת אנרגיות טובות לפתיחת יום העבודה. הידיעה כי התרומה וההשקעה שלנו ושל שאר המתנדבים מגיעה למקום ואוכלוסייה שנדרשת בארוחה הזו על מנת להמשיך להתקיים ולאכול ארוחה חמה ביום השאירה בנו חותם ורצון לעזור בכל זמן נתון וכמה שאנחנו רק יכולים. מעבר להתנדבות, בן זוגי לקח על עצמו לנסוע כפעם בחודש למספר בתי קשישים על מנת לחלק להם את הארוחה היומית שלהם בבוקר לאחר ההתנדבות השבועית ואף לשבת איתם ולשמוע את סיפורם. הקשישים שמחו מאוד על ביקורו, אירחו אותו ביד רחבה וסיפרו בתשוקה על סיפורי הגבורה שסוחבים על גבם. בהמשך להתנדבות המספקת, נרתמנו לגיוס כספים לטובת המשך קיומה של העמותה והעברת תקציב להכנת המזון. בנוסף, עודדנו גיוס של מתנדבים שיגיעו לאריזות בהעלאת פוסטים לרשתות החברתיות דרך חברים שלנו ושיתוף הפוסט בתפוצה רחבה ככל שניתן. ההתנדבות עבורי הייתה דבר משמעותי מאוד, אני מקווה שאצליח לשמור על המנהג ולרכוש לעצמי ערכים של נתינה לזולת, עזרה וסיוע לכל הנדרש בכך וכמובן רגישות לסיטואציה. בנוסף, אני מקווה שאצליח לסחוף אחריי מכרים וחברים שיצטרפו אליי ויבינו את חשיבות הקיום של העמותה הספציפית ושאר העמותות שבארצנו שעושות מלאכת קודש ונוגעות במקומות הרגישים בחברה.\""
      ]
     },
     "execution_count": 20,
     "metadata": {},
     "output_type": "execute_result"
    }
   ],
   "source": [
    "df_predicted.iloc[209:210,:]\n",
    "df_res.iloc[209,1]"
   ]
  },
  {
   "cell_type": "code",
   "execution_count": null,
   "metadata": {},
   "outputs": [],
   "source": []
  },
  {
   "cell_type": "code",
   "execution_count": null,
   "metadata": {},
   "outputs": [],
   "source": []
  },
  {
   "cell_type": "code",
   "execution_count": null,
   "metadata": {},
   "outputs": [],
   "source": []
  },
  {
   "cell_type": "code",
   "execution_count": null,
   "metadata": {},
   "outputs": [],
   "source": []
  },
  {
   "cell_type": "code",
   "execution_count": null,
   "metadata": {},
   "outputs": [],
   "source": []
  },
  {
   "cell_type": "code",
   "execution_count": null,
   "metadata": {},
   "outputs": [],
   "source": []
  },
  {
   "cell_type": "code",
   "execution_count": null,
   "metadata": {},
   "outputs": [],
   "source": []
  },
  {
   "cell_type": "code",
   "execution_count": null,
   "metadata": {},
   "outputs": [],
   "source": []
  },
  {
   "cell_type": "markdown",
   "metadata": {},
   "source": [
    "### Save output to csv (optional)\n",
    "After you're done save your output to the 'classification_results.csv' csv file.<br/>\n",
    "We assume that the dataframe with your results contain the following columns:\n",
    "* column 1 (left column): 'test_example_id'  - the same id associated to each of the test stories to be predicted.\n",
    "* column 2 (right column): 'predicted_category' - the predicted gender value for each of the associated story. \n",
    "\n",
    "Assuming your predicted values are in the `df_predicted` dataframe, you should save you're results as following:"
   ]
  },
  {
   "cell_type": "code",
   "execution_count": 21,
   "metadata": {},
   "outputs": [],
   "source": [
    "df_predicted.to_csv('classification_results.csv',index=False)"
   ]
  },
  {
   "cell_type": "code",
   "execution_count": null,
   "metadata": {},
   "outputs": [],
   "source": []
  }
 ],
 "metadata": {
  "celltoolbar": "Create Assignment",
  "kernelspec": {
   "display_name": "Python 3 (ipykernel)",
   "language": "python",
   "name": "python3"
  },
  "language_info": {
   "codemirror_mode": {
    "name": "ipython",
    "version": 3
   },
   "file_extension": ".py",
   "mimetype": "text/x-python",
   "name": "python",
   "nbconvert_exporter": "python",
   "pygments_lexer": "ipython3",
   "version": "3.9.7"
  }
 },
 "nbformat": 4,
 "nbformat_minor": 4
}
